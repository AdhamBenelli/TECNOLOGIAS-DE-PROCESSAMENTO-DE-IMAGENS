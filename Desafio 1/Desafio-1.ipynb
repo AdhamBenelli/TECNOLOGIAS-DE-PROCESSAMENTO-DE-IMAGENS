{
 "cells": [
  {
   "cell_type": "code",
   "execution_count": 8,
   "metadata": {},
   "outputs": [],
   "source": [
    "import cv2\n",
    "import numpy as np\n",
    "from PIL import Image"
   ]
  },
  {
   "cell_type": "code",
   "execution_count": 9,
   "metadata": {},
   "outputs": [],
   "source": [
    "def corPredominante(path):\n",
    "    \n",
    "    cores = []\n",
    "    \n",
    "    image = cv2.imread(path)\n",
    "    hsv_image = cv2.cvtColor(image, cv2.COLOR_BGR2HSV)\n",
    "    hue_hist = cv2.calcHist([hsv_image], [0], None, [180], [0, 180])\n",
    "    top_cores = np.argpartition(hue_hist.ravel(), -3)[-3:]\n",
    "\n",
    "    top_cores\n",
    "    \n",
    "    for valor in top_cores:\n",
    "        if valor >= 0 and valor <= 15:\n",
    "            cor = \"vemelho\"\n",
    "        elif valor > 15 and valor <= 22:\n",
    "            cor = \"laranja\"\n",
    "        elif valor > 22 and valor <= 30:\n",
    "            cor = \"amarelo\"\n",
    "        elif valor > 30 and valor <= 37:\n",
    "            cor = \"amarelo\"\n",
    "        elif valor > 37 and valor <= 60:\n",
    "            cor = \"verde\"\n",
    "        elif valor > 60 and valor <= 75:\n",
    "            cor = \"verde\"\n",
    "        elif valor > 75 and valor <= 90:\n",
    "            cor = \"magenta\"\n",
    "        elif valor > 90 and valor <= 105:\n",
    "            cor = \"magenta\"\n",
    "        elif valor > 105 and valor <= 120:\n",
    "            cor = \"azul\"\n",
    "        elif valor > 120 and valor <= 135:\n",
    "            cor = \"roxo\"\n",
    "        elif valor > 135 and valor <= 150:\n",
    "            cor = \"rosa\"\n",
    "        elif valor > 150 and valor <= 165:\n",
    "            cor = \"rosa\"\n",
    "        elif valor > 165 and valor <= 180:\n",
    "            cor = \"vermelho\"\n",
    "        cores.append(cor)\n",
    "    \n",
    "    cores = set(cores)\n",
    "    return cores"
   ]
  },
  {
   "cell_type": "code",
   "execution_count": 10,
   "metadata": {},
   "outputs": [
    {
     "data": {
      "text/plain": [
       "{'verde'}"
      ]
     },
     "execution_count": 10,
     "metadata": {},
     "output_type": "execute_result"
    }
   ],
   "source": [
    "corPredominante('futebol.jpg')"
   ]
  },
  {
   "cell_type": "code",
   "execution_count": 17,
   "metadata": {},
   "outputs": [
    {
     "data": {
      "text/plain": [
       "{'laranja', 'vemelho'}"
      ]
     },
     "execution_count": 17,
     "metadata": {},
     "output_type": "execute_result"
    }
   ],
   "source": [
    "corPredominante('moda.jpg')"
   ]
  },
  {
   "cell_type": "code",
   "execution_count": 20,
   "metadata": {},
   "outputs": [
    {
     "data": {
      "text/plain": [
       "{'amarelo', 'vemelho'}"
      ]
     },
     "execution_count": 20,
     "metadata": {},
     "output_type": "execute_result"
    }
   ],
   "source": [
    "corPredominante('simpsons.jpeg')"
   ]
  },
  {
   "cell_type": "code",
   "execution_count": 15,
   "metadata": {},
   "outputs": [],
   "source": [
    "### vi uma outra forma de encontra a cor predominante usando a biblioteca Pillow\n",
    "### nesse algoritmo conseguimos voltar o RGB mais frequente de cada pixel. as vezes fica bom, as vezes não. Do simpsons ele pegou o branco como maior frequencia\n",
    "from PIL import Image\n",
    "def most_frequent_colour(path):\n",
    "    image = Image.open(path)\n",
    "    \n",
    "    size = image.size\n",
    "    \n",
    "    pixels = image.getcolors(size[0] * size[1])\n",
    "\n",
    "    \n",
    "    most_frequent_pixel = pixels[0]\n",
    "\n",
    "    for count, colour in pixels:\n",
    "        if count > most_frequent_pixel[0]:\n",
    "            most_frequent_pixel = (count, colour)\n",
    "\n",
    "    return most_frequent_pixel[1]"
   ]
  },
  {
   "cell_type": "code",
   "execution_count": 16,
   "metadata": {},
   "outputs": [
    {
     "data": {
      "text/plain": [
       "(192, 225, 56)"
      ]
     },
     "execution_count": 16,
     "metadata": {},
     "output_type": "execute_result"
    }
   ],
   "source": [
    "most_frequent_colour('futebol.jpg')"
   ]
  },
  {
   "cell_type": "code",
   "execution_count": 21,
   "metadata": {},
   "outputs": [
    {
     "data": {
      "text/plain": [
       "(25, 26, 20)"
      ]
     },
     "execution_count": 21,
     "metadata": {},
     "output_type": "execute_result"
    }
   ],
   "source": [
    "most_frequent_colour('moda.jpg')"
   ]
  },
  {
   "cell_type": "code",
   "execution_count": 22,
   "metadata": {},
   "outputs": [
    {
     "data": {
      "text/plain": [
       "(255, 255, 255)"
      ]
     },
     "execution_count": 22,
     "metadata": {},
     "output_type": "execute_result"
    }
   ],
   "source": [
    "most_frequent_colour('simpsons.jpeg')"
   ]
  }
 ],
 "metadata": {
  "kernelspec": {
   "display_name": "Python 3",
   "language": "python",
   "name": "python3"
  },
  "language_info": {
   "codemirror_mode": {
    "name": "ipython",
    "version": 3
   },
   "file_extension": ".py",
   "mimetype": "text/x-python",
   "name": "python",
   "nbconvert_exporter": "python",
   "pygments_lexer": "ipython3",
   "version": "3.7.1"
  }
 },
 "nbformat": 4,
 "nbformat_minor": 2
}
